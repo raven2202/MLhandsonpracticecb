{
  "nbformat": 4,
  "nbformat_minor": 0,
  "metadata": {
    "colab": {
      "provenance": []
    },
    "kernelspec": {
      "name": "python3",
      "display_name": "Python 3"
    },
    "language_info": {
      "name": "python"
    }
  },
  "cells": [
    {
      "cell_type": "code",
      "execution_count": 2,
      "metadata": {
        "id": "DBbT369R2MYF"
      },
      "outputs": [],
      "source": [
        "from sklearn.linear_model import LogisticRegression\n",
        "from sklearn.svm import SVC\n",
        "from sklearn.ensemble import RandomForestClassifier\n",
        "import numpy as np\n",
        "from sklearn.datasets import load_digits\n",
        "digits=load_digits()"
      ]
    },
    {
      "cell_type": "code",
      "source": [
        "from sklearn.model_selection import train_test_split\n",
        "X_train,X_test,y_train,y_test=train_test_split(digits.data,digits.target,test_size=0.3)"
      ],
      "metadata": {
        "id": "RiF-cD0l2zBQ"
      },
      "execution_count": 3,
      "outputs": []
    },
    {
      "cell_type": "code",
      "source": [
        "lr=LogisticRegression(max_iter=1000)\n",
        "lr.fit(X_train,y_train)\n",
        "lr.score(X_test,y_test)"
      ],
      "metadata": {
        "colab": {
          "base_uri": "https://localhost:8080/"
        },
        "id": "AKaoxomr3UXP",
        "outputId": "c94aa5ea-a705-4e50-b6ec-e6a0caded72c"
      },
      "execution_count": 5,
      "outputs": [
        {
          "output_type": "execute_result",
          "data": {
            "text/plain": [
              "0.9574074074074074"
            ]
          },
          "metadata": {},
          "execution_count": 5
        }
      ]
    },
    {
      "cell_type": "code",
      "source": [
        "rf=RandomForestClassifier()\n",
        "rf.fit(X_train,y_train)\n",
        "rf.score(X_test,y_test)"
      ],
      "metadata": {
        "colab": {
          "base_uri": "https://localhost:8080/"
        },
        "id": "9-q1vP9j3h_0",
        "outputId": "a06b7801-7665-4ad6-e844-a22c8b01d5a9"
      },
      "execution_count": 6,
      "outputs": [
        {
          "output_type": "execute_result",
          "data": {
            "text/plain": [
              "0.975925925925926"
            ]
          },
          "metadata": {},
          "execution_count": 6
        }
      ]
    },
    {
      "cell_type": "code",
      "source": [
        "sv=SVC()\n",
        "sv.fit(X_train,y_train)\n",
        "sv.score(X_test,y_test)"
      ],
      "metadata": {
        "colab": {
          "base_uri": "https://localhost:8080/"
        },
        "id": "mV0jK6e937NH",
        "outputId": "4430a86d-8c72-4938-8a15-ac36344f3c08"
      },
      "execution_count": 7,
      "outputs": [
        {
          "output_type": "execute_result",
          "data": {
            "text/plain": [
              "0.9925925925925926"
            ]
          },
          "metadata": {},
          "execution_count": 7
        }
      ]
    },
    {
      "cell_type": "code",
      "source": [
        "from sklearn.model_selection import KFold\n",
        "kf=KFold(n_splits=3)\n",
        "kf"
      ],
      "metadata": {
        "colab": {
          "base_uri": "https://localhost:8080/"
        },
        "id": "f4VD4re439re",
        "outputId": "b7fbf4ea-ab57-4749-82b0-d6edac3b51a1"
      },
      "execution_count": 12,
      "outputs": [
        {
          "output_type": "execute_result",
          "data": {
            "text/plain": [
              "KFold(n_splits=3, random_state=None, shuffle=False)"
            ]
          },
          "metadata": {},
          "execution_count": 12
        }
      ]
    },
    {
      "cell_type": "code",
      "source": [
        "for train_i,test_i in kf.split([1,2,3,4,5,6,7,8,9]):\n",
        "    print(train_i,test_i)"
      ],
      "metadata": {
        "colab": {
          "base_uri": "https://localhost:8080/"
        },
        "id": "zyR4x0SR5Arf",
        "outputId": "51472106-8db2-40ed-d782-e0d9a5e3ce6f"
      },
      "execution_count": 13,
      "outputs": [
        {
          "output_type": "stream",
          "name": "stdout",
          "text": [
            "[3 4 5 6 7 8] [0 1 2]\n",
            "[0 1 2 6 7 8] [3 4 5]\n",
            "[0 1 2 3 4 5] [6 7 8]\n"
          ]
        }
      ]
    },
    {
      "cell_type": "code",
      "source": [
        "def get_score(model,X_train,X_test,y_train,y_test):\n",
        "  model.fit(X_train,y_train)\n",
        "  return model.score(X_test,y_test)"
      ],
      "metadata": {
        "id": "of2y-IKI5LmG"
      },
      "execution_count": 14,
      "outputs": []
    },
    {
      "cell_type": "code",
      "source": [
        "from sklearn.model_selection import StratifiedKFold\n",
        "folds=StratifiedKFold(n_splits=3)"
      ],
      "metadata": {
        "id": "N36XZvcK6rtz"
      },
      "execution_count": 15,
      "outputs": []
    },
    {
      "cell_type": "code",
      "source": [
        "score_l=[]\n",
        "score_s=[]\n",
        "score_r=[]\n",
        "\n",
        "for train_index,test_index in folds.split(digits.data,digits.target):\n",
        "  X_train,X_test,y_train,y_test=digits.data[train_index],digits.data[test_index],digits.target[train_index],digits.target[test_index]\n",
        "  score_l.append(get_score(LogisticRegression(max_iter=1000),X_train,X_test,y_train,y_test))\n",
        "  score_s.append(get_score(SVC(),X_train,X_test,y_train,y_test))\n",
        "  score_r.append(get_score(RandomForestClassifier(),X_train,X_test,y_train,y_test))"
      ],
      "metadata": {
        "id": "pOBTjs_P68w0"
      },
      "execution_count": 16,
      "outputs": []
    },
    {
      "cell_type": "markdown",
      "source": [
        "Stratified K fold"
      ],
      "metadata": {
        "id": "F3qH2R0H8RsK"
      }
    },
    {
      "cell_type": "code",
      "source": [
        "score_l"
      ],
      "metadata": {
        "colab": {
          "base_uri": "https://localhost:8080/"
        },
        "id": "SxNflv9s7apH",
        "outputId": "6b8bae45-09e4-4b5c-b21a-1edaf4f7c7cf"
      },
      "execution_count": 17,
      "outputs": [
        {
          "output_type": "execute_result",
          "data": {
            "text/plain": [
              "[0.9198664440734557, 0.9415692821368948, 0.9165275459098498]"
            ]
          },
          "metadata": {},
          "execution_count": 17
        }
      ]
    },
    {
      "cell_type": "code",
      "source": [
        "score_s"
      ],
      "metadata": {
        "colab": {
          "base_uri": "https://localhost:8080/"
        },
        "id": "vFx-3QKI7fzQ",
        "outputId": "75d27ab0-969a-4114-b9a8-b3fdcc2dd5cc"
      },
      "execution_count": 18,
      "outputs": [
        {
          "output_type": "execute_result",
          "data": {
            "text/plain": [
              "[0.9649415692821369, 0.9799666110183639, 0.9649415692821369]"
            ]
          },
          "metadata": {},
          "execution_count": 18
        }
      ]
    },
    {
      "cell_type": "code",
      "source": [
        "score_r"
      ],
      "metadata": {
        "colab": {
          "base_uri": "https://localhost:8080/"
        },
        "id": "p4WOOCAc7iTz",
        "outputId": "74372298-e8a3-4303-ed6c-3624f27dd8f5"
      },
      "execution_count": 19,
      "outputs": [
        {
          "output_type": "execute_result",
          "data": {
            "text/plain": [
              "[0.9432387312186978, 0.9565943238731218, 0.9165275459098498]"
            ]
          },
          "metadata": {},
          "execution_count": 19
        }
      ]
    },
    {
      "cell_type": "code",
      "source": [
        "score_l.clear()\n",
        "score_r.clear()\n",
        "score_s.clear()\n",
        "for train_index,test_index in kf.split(digits.data,digits.target):\n",
        "  X_train,X_test,y_train,y_test=digits.data[train_index],digits.data[test_index],digits.target[train_index],digits.target[test_index]\n",
        "  score_l.append(get_score(LogisticRegression(max_iter=1000),X_train,X_test,y_train,y_test))\n",
        "  score_s.append(get_score(SVC(),X_train,X_test,y_train,y_test))\n",
        "  score_r.append(get_score(RandomForestClassifier(),X_train,X_test,y_train,y_test))"
      ],
      "metadata": {
        "id": "0h02AAFM7kg9"
      },
      "execution_count": 22,
      "outputs": []
    },
    {
      "cell_type": "markdown",
      "source": [
        "Kfold"
      ],
      "metadata": {
        "id": "IuO7reFi9SDg"
      }
    },
    {
      "cell_type": "code",
      "source": [
        "score_l"
      ],
      "metadata": {
        "colab": {
          "base_uri": "https://localhost:8080/"
        },
        "id": "1JmwY6hB8ggr",
        "outputId": "5c6e9447-0538-4e36-c99f-5477ebd6ff04"
      },
      "execution_count": 23,
      "outputs": [
        {
          "output_type": "execute_result",
          "data": {
            "text/plain": [
              "[0.9248747913188647, 0.9432387312186978, 0.9148580968280468]"
            ]
          },
          "metadata": {},
          "execution_count": 23
        }
      ]
    },
    {
      "cell_type": "code",
      "source": [
        "score_s"
      ],
      "metadata": {
        "colab": {
          "base_uri": "https://localhost:8080/"
        },
        "id": "RMyy9DVq8kZH",
        "outputId": "ec30321a-6b70-46b7-9890-8abc32336c3c"
      },
      "execution_count": 24,
      "outputs": [
        {
          "output_type": "execute_result",
          "data": {
            "text/plain": [
              "[0.9666110183639399, 0.9816360601001669, 0.9549248747913188]"
            ]
          },
          "metadata": {},
          "execution_count": 24
        }
      ]
    },
    {
      "cell_type": "code",
      "source": [
        "score_r"
      ],
      "metadata": {
        "colab": {
          "base_uri": "https://localhost:8080/"
        },
        "id": "lOuomsCg9OGZ",
        "outputId": "b09c3fc5-577d-4754-ea33-a56c6f6a1743"
      },
      "execution_count": 25,
      "outputs": [
        {
          "output_type": "execute_result",
          "data": {
            "text/plain": [
              "[0.9332220367278798, 0.9565943238731218, 0.9248747913188647]"
            ]
          },
          "metadata": {},
          "execution_count": 25
        }
      ]
    },
    {
      "cell_type": "code",
      "source": [
        "from sklearn.model_selection import cross_val_score\n",
        "cross_val_score(LogisticRegression(max_iter=1000),digits.data,digits.target)"
      ],
      "metadata": {
        "colab": {
          "base_uri": "https://localhost:8080/"
        },
        "id": "1Nai6huD9QFa",
        "outputId": "942be39e-f236-4a07-fded-f844676be74e"
      },
      "execution_count": 27,
      "outputs": [
        {
          "output_type": "execute_result",
          "data": {
            "text/plain": [
              "array([0.92222222, 0.87222222, 0.94150418, 0.94150418, 0.89693593])"
            ]
          },
          "metadata": {},
          "execution_count": 27
        }
      ]
    },
    {
      "cell_type": "code",
      "source": [
        "cross_val_score(SVC(),digits.data,digits.target)"
      ],
      "metadata": {
        "colab": {
          "base_uri": "https://localhost:8080/"
        },
        "id": "ur7IjM4691LI",
        "outputId": "5ca1384b-eed4-46d0-88ca-fd72cee74075"
      },
      "execution_count": 28,
      "outputs": [
        {
          "output_type": "execute_result",
          "data": {
            "text/plain": [
              "array([0.96111111, 0.94444444, 0.98328691, 0.98885794, 0.93871866])"
            ]
          },
          "metadata": {},
          "execution_count": 28
        }
      ]
    },
    {
      "cell_type": "code",
      "source": [
        "cross_val_score(RandomForestClassifier(),digits.data,digits.target)"
      ],
      "metadata": {
        "colab": {
          "base_uri": "https://localhost:8080/"
        },
        "id": "kykJjfxq-JsD",
        "outputId": "142efd42-b809-470e-8c85-cdbe57696fec"
      },
      "execution_count": 29,
      "outputs": [
        {
          "output_type": "execute_result",
          "data": {
            "text/plain": [
              "array([0.93888889, 0.90277778, 0.9637883 , 0.9637883 , 0.93036212])"
            ]
          },
          "metadata": {},
          "execution_count": 29
        }
      ]
    },
    {
      "cell_type": "code",
      "source": [],
      "metadata": {
        "id": "LYn8m0WK-Qkj"
      },
      "execution_count": null,
      "outputs": []
    }
  ]
}